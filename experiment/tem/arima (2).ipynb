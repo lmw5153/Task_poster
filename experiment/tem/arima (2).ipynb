{
 "cells": [
  {
   "cell_type": "code",
   "execution_count": null,
   "id": "f1f4f0b4-4c64-4a90-b451-e3e339b941cd",
   "metadata": {},
   "outputs": [],
   "source": [
    "import pmdarima as pm\n",
    "import numpy as np\n",
    "import pandas as pd\n",
    "import time\n",
    "\n",
    "data = 'tem'\n",
    "target_X= pd.read_csv(f\"../data/{data}_train_input_7.csv\").iloc[:,1:].values.astype(np.float32) \n",
    "target_y =pd.read_csv(f\"../data/{data}_train_output_7.csv\").iloc[:,1:].values.astype(np.float32) \n",
    "\n",
    "X_train = target_X[:-round(target_X.shape[0]*0.2),:].astype(np.float32)\n",
    "y_train = target_y[:-round(target_y.shape[0]*0.2)].astype(np.float32)\n",
    "\n",
    "X_train_val= target_X[-round(target_X.shape[0]*0.2):,:].astype(np.float32)\n",
    "y_train_val =target_y[-round(target_y.shape[0]*0.2):].astype(np.float32)\n",
    "\n",
    "\n",
    "test_X= pd.read_csv(f\"../data/{data}_val_input_7.csv\").iloc[:,1:].values.astype(np.float32)\n",
    "test_y =pd.read_csv(f\"../data/{data}_val_output_7.csv\").iloc[:,1:].values.astype(np.float32)\n",
    "\n",
    "# 각 윈도우에 대해 SARIMA 모델 학습 및 예측\n",
    "forecasts = []\n",
    "N=test_X.shape[0]\n",
    "\n",
    "start_time = time.time()\n",
    "for i in range(N):\n",
    "    y = test_X[i, :]  # 각 윈도우 데이터를 추출\n",
    "\n",
    "    # SARIMA 모델 자동 설정 및 학습\n",
    "    model = pm.auto_arima(\n",
    "        y,\n",
    "        seasonal=True,        # 계절성 모델\n",
    "        m=24,                 # 계절 주기 (필요에 따라 조정 가능)\n",
    "        trace=False,          # 모델 설정 과정을 출력하지 않음\n",
    "        error_action='ignore',  # 오류 발생 시 무시\n",
    "        suppress_warnings=True, # 경고 무시\n",
    "        stepwise=True         # 단계별 접근으로 속도 개선\n",
    "    )\n",
    "\n",
    "    # 24개 기간 예측\n",
    "    forecast = model.predict(n_periods=24)\n",
    "    forecasts.append(forecast)\n",
    "end_time = time.time()\n",
    "elapsed_time = end_time - start_time\n",
    "# 예측 결과를 DataFrame으로 정리\n",
    "\n",
    "forecast_df = pd.DataFrame(forecasts)\n",
    "print(elapsed_time )"
   ]
  },
  {
   "cell_type": "code",
   "execution_count": 5,
   "id": "668ba52d-9094-41b9-b217-ebcbcaf3b7f2",
   "metadata": {
    "scrolled": true
   },
   "outputs": [
    {
     "name": "stdout",
     "output_type": "stream",
     "text": [
      "10.125245270495775\n",
      "2.2617229143450714\n"
     ]
    }
   ],
   "source": [
    "from sklearn.metrics import mean_squared_error,mean_absolute_error,mean_absolute_percentage_error\n",
    "\n",
    "\n",
    "print(mean_squared_error(test_y.flatten(),forecast_df.values.flatten()))\n",
    "print(mean_absolute_error(test_y.flatten(),forecast_df.values.flatten()))"
   ]
  },
  {
   "cell_type": "code",
   "execution_count": 4,
   "id": "58ff5426-ef63-49b4-9707-bab5fd3aa887",
   "metadata": {},
   "outputs": [
    {
     "name": "stdout",
     "output_type": "stream",
     "text": [
      "15576.457022666931\n"
     ]
    }
   ],
   "source": [
    "print(elapsed_time )"
   ]
  },
  {
   "cell_type": "code",
   "execution_count": 3,
   "id": "030a9200-5c91-4452-97c1-7f9a9136ab13",
   "metadata": {},
   "outputs": [],
   "source": [
    "forecast_df.to_csv(\"arima.csv\")"
   ]
  }
 ],
 "metadata": {
  "kernelspec": {
   "display_name": "Python 3 (ipykernel)",
   "language": "python",
   "name": "python3"
  },
  "language_info": {
   "codemirror_mode": {
    "name": "ipython",
    "version": 3
   },
   "file_extension": ".py",
   "mimetype": "text/x-python",
   "name": "python",
   "nbconvert_exporter": "python",
   "pygments_lexer": "ipython3",
   "version": "3.10.13"
  }
 },
 "nbformat": 4,
 "nbformat_minor": 5
}
